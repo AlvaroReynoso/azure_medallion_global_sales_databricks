{
 "cells": [
  {
   "cell_type": "markdown",
   "metadata": {
    "application/vnd.databricks.v1+cell": {
     "cellMetadata": {
      "byteLimit": 2048000,
      "rowLimit": 10000
     },
     "inputWidgets": {},
     "nuid": "afbf7d47-3073-4dff-b2e8-c5884d2e988a",
     "showTitle": false,
     "tableResultSettingsMap": {},
     "title": ""
    }
   },
   "source": [
    "### Comienzo capa Oro (Gold)"
   ]
  },
  {
   "cell_type": "code",
   "execution_count": 0,
   "metadata": {
    "application/vnd.databricks.v1+cell": {
     "cellMetadata": {
      "byteLimit": 2048000,
      "rowLimit": 10000
     },
     "inputWidgets": {},
     "nuid": "aa16b1c9-cf0f-42c9-955d-9e4a03766357",
     "showTitle": false,
     "tableResultSettingsMap": {},
     "title": ""
    }
   },
   "outputs": [],
   "source": [
    "df_oro = spark.read.format(\"delta\").load(\"/mnt/datalake/globalsalesmarketmedallon/global_sales_plata/delta_tables/\")\n",
    "\n",
    "display(df_oro)"
   ]
  },
  {
   "cell_type": "code",
   "execution_count": 0,
   "metadata": {
    "application/vnd.databricks.v1+cell": {
     "cellMetadata": {
      "byteLimit": 2048000,
      "rowLimit": 10000
     },
     "inputWidgets": {},
     "nuid": "901b9db7-2c05-4458-ab60-f5b1cd9b649d",
     "showTitle": true,
     "tableResultSettingsMap": {},
     "title": "Identify and Remove Duplicate Orders and Products"
    }
   },
   "outputs": [],
   "source": [
    "\n",
    "from pyspark.sql.functions import count, col\n",
    "\n",
    "# Count the occurrences of each combination of Order_ID, Product_ID, and Customer_ID\n",
    "df_counts = df_oro.groupBy(\"Order_ID\", \"Product_ID\", \"Customer_ID\").agg(count(\"*\").alias(\"count\"))\n",
    "\n",
    "# Filter to get only the duplicates\n",
    "df_duplicates = df_counts.filter(col(\"count\") > 1)\n",
    "\n",
    "# Join with the original dataframe to get the full details of the duplicates\n",
    "df_duplicates_details = df_oro.join(df_duplicates, on=[\"Order_ID\", \"Product_ID\", \"Customer_ID\"], how=\"inner\")\n",
    "\n",
    "# Drop duplicates from the original dataframe\n",
    "df_oro = df_oro.dropDuplicates([\"Order_ID\", \"Product_ID\", \"Customer_ID\",])\n",
    "\n",
    "display(df_duplicates_details)\n",
    "display(df_oro)"
   ]
  },
  {
   "cell_type": "code",
   "execution_count": 0,
   "metadata": {
    "application/vnd.databricks.v1+cell": {
     "cellMetadata": {
      "byteLimit": 2048000,
      "rowLimit": 10000
     },
     "inputWidgets": {},
     "nuid": "cfebb4b4-1835-474a-818a-40cf00b73182",
     "showTitle": true,
     "tableResultSettingsMap": {},
     "title": "Save Global Sales Data as Delta and CSV Files"
    }
   },
   "outputs": [],
   "source": [
    "df_oro.write.format(\"delta\").mode(\"overwrite\").partitionBy(\"Order_Year\").save(\"/mnt/datalake/globalsalesmarketmedallon/global_sales_oro/delta_tables\")\n",
    "df_oro.write.format(\"csv\").mode(\"overwrite\").partitionBy(\"Order_Year\").save(\"/mnt/datalake/globalsalesmarketmedallon/global_sales_oro/csv\")\n",
    "\n",
    "\n",
    "# df_clean.write.format(\"delta\").mode(\"overwrite\").save(\"/mnt/datalake/globalsalesmarketmedallon/global_sales_plata/delta_tables\")\n",
    "# df_clean.write.format(\"csv\").mode(\"overwrite\").save(\"/mnt/datalake/globalsalesmarketmedallon/global_sales_plata/csv\")\n"
   ]
  },
  {
   "cell_type": "code",
   "execution_count": 0,
   "metadata": {
    "application/vnd.databricks.v1+cell": {
     "cellMetadata": {
      "byteLimit": 2048000,
      "rowLimit": 10000
     },
     "inputWidgets": {},
     "nuid": "263adbed-960d-4649-8483-aff89bfbd1f4",
     "showTitle": true,
     "tableResultSettingsMap": {},
     "title": "Load and Display 2011 Global Sales Data"
    }
   },
   "outputs": [],
   "source": [
    "\n",
    "df_oro_2011 = spark.read.format(\"delta\").load(\"/mnt/datalake/globalsalesmarketmedallon/global_sales_oro/delta_tables/\").filter(\"Order_Year = 2011\")\n",
    "df_oro_2012 = spark.read.format(\"delta\").load(\"/mnt/datalake/globalsalesmarketmedallon/global_sales_oro/delta_tables/\").filter(\"Order_Year = 2012\")\n",
    "df_oro_2013 = spark.read.format(\"delta\").load(\"/mnt/datalake/globalsalesmarketmedallon/global_sales_oro/delta_tables/\").filter(\"Order_Year = 2013\")\n",
    "df_oro_2014 = spark.read.format(\"delta\").load(\"/mnt/datalake/globalsalesmarketmedallon/global_sales_oro/delta_tables/\").filter(\"Order_Year = 2014\")\n",
    "display(df_oro_2011)\n",
    "display(df_oro_2014)\n"
   ]
  },
  {
   "cell_type": "markdown",
   "metadata": {
    "application/vnd.databricks.v1+cell": {
     "cellMetadata": {
      "byteLimit": 2048000,
      "rowLimit": 10000
     },
     "inputWidgets": {},
     "nuid": "a593f81a-11ed-4466-88c1-4db08f23150b",
     "showTitle": false,
     "tableResultSettingsMap": {},
     "title": ""
    }
   },
   "source": [
    "### KPIs , agregaciones, promedios, etc"
   ]
  },
  {
   "cell_type": "code",
   "execution_count": 0,
   "metadata": {
    "application/vnd.databricks.v1+cell": {
     "cellMetadata": {
      "byteLimit": 2048000,
      "rowLimit": 10000
     },
     "inputWidgets": {},
     "nuid": "4c8f07b3-ba83-402a-afb2-ecf6387f16a1",
     "showTitle": true,
     "tableResultSettingsMap": {},
     "title": "Compute and Display Total Sales by Year"
    }
   },
   "outputs": [],
   "source": [
    "from pyspark.sql.functions import sum\n",
    "\n",
    "df_ventas_totales_por_anio = df_oro.groupBy(\"Order_Year\").agg(\n",
    "    sum(\"Sales\").alias(\"Total_Sales\")\n",
    ")\n",
    "display(df_ventas_totales_por_anio)\n",
    "\n",
    "df_ventas_totales_por_anio.write.format(\"delta\").mode(\"overwrite\").save(\"/mnt/datalake/globalsalesmarketmedallon/global_sales_oro/df_ventas_totales_por_anio/delta_tables\")\n",
    "df_ventas_totales_por_anio.write.format(\"csv\").mode(\"overwrite\").save(\"/mnt/datalake/globalsalesmarketmedallon/global_sales_oro/df_ventas_totales_por_anio/csv\")"
   ]
  },
  {
   "cell_type": "code",
   "execution_count": 0,
   "metadata": {
    "application/vnd.databricks.v1+cell": {
     "cellMetadata": {
      "byteLimit": 2048000,
      "rowLimit": 10000
     },
     "inputWidgets": {},
     "nuid": "3f26e9b1-a828-43e8-aa21-8624c4b62ab3",
     "showTitle": true,
     "tableResultSettingsMap": {},
     "title": "Aggregate and Display Total Profit by Year"
    }
   },
   "outputs": [],
   "source": [
    "df_kpi_profit = df_oro.groupBy(\"Order_Year\").agg(\n",
    "    sum(\"Profit\").alias(\"Total_Profit\")\n",
    ")\n",
    "\n",
    "display(df_kpi_profit)\n",
    "\n",
    "df_kpi_profit.write.format(\"delta\").mode(\"overwrite\").save(\"/mnt/datalake/globalsalesmarketmedallon/global_sales_oro/df_kpi_profit/delta_tables\")\n",
    "df_kpi_profit.write.format(\"csv\").mode(\"overwrite\").save(\"/mnt/datalake/globalsalesmarketmedallon/global_sales_oro/df_kpi_profit/csv\")"
   ]
  },
  {
   "cell_type": "code",
   "execution_count": 0,
   "metadata": {
    "application/vnd.databricks.v1+cell": {
     "cellMetadata": {
      "byteLimit": 2048000,
      "rowLimit": 10000
     },
     "inputWidgets": {},
     "nuid": "c3694f69-1f4f-4fbc-a49c-d2c68d2f277a",
     "showTitle": true,
     "tableResultSettingsMap": {},
     "title": "- Calculate and Display Avg Profit Margin by Year"
    }
   },
   "outputs": [],
   "source": [
    "from pyspark.sql.functions import avg\n",
    "\n",
    "df_margen_promedio_ganancia = df_oro.groupBy(\"Order_Year\").agg(\n",
    "    avg(\"Profit_Margin\").alias(\"Avg_Profit_Margin\")\n",
    ")\n",
    "display(df_margen_promedio_ganancia)\n",
    "\n",
    "df_margen_promedio_ganancia.write.format(\"delta\").mode(\"overwrite\").save(\"/mnt/datalake/globalsalesmarketmedallon/global_sales_oro/margen_promedio_ganancia/delta_tables\")\n",
    "df_margen_promedio_ganancia.write.format(\"csv\").mode(\"overwrite\").save(\"/mnt/datalake/globalsalesmarketmedallon/global_sales_oro/margen_promedio_ganancia/csv\")"
   ]
  },
  {
   "cell_type": "code",
   "execution_count": 0,
   "metadata": {
    "application/vnd.databricks.v1+cell": {
     "cellMetadata": {
      "byteLimit": 2048000,
      "rowLimit": 10000
     },
     "inputWidgets": {},
     "nuid": "3137d86b-ac10-432f-bde4-eb8271f1cd67",
     "showTitle": true,
     "tableResultSettingsMap": {},
     "title": "Count and Display Unique Customers by Year"
    }
   },
   "outputs": [],
   "source": [
    "from pyspark.sql.functions import countDistinct\n",
    "\n",
    "df_clientes_unicos = df_oro.groupBy(\"Order_Year\").agg(\n",
    "    countDistinct(\"Customer_ID\").alias(\"Unique_Customers\")\n",
    ")\n",
    "display(df_clientes_unicos)\n",
    "\n",
    "df_clientes_unicos.write.format(\"delta\").mode(\"overwrite\").save(\"/mnt/datalake/globalsalesmarketmedallon/global_sales_oro/clientes_unicos/delta_tables\")\n",
    "df_clientes_unicos.write.format(\"csv\").mode(\"overwrite\").save(\"/mnt/datalake/globalsalesmarketmedallon/global_sales_oro/clientes_unicos/csv\")"
   ]
  },
  {
   "cell_type": "code",
   "execution_count": 0,
   "metadata": {
    "application/vnd.databricks.v1+cell": {
     "cellMetadata": {
      "byteLimit": 2048000,
      "rowLimit": 10000
     },
     "inputWidgets": {},
     "nuid": "ca516105-5817-4e81-a85c-1eb2a83dc3ba",
     "showTitle": true,
     "tableResultSettingsMap": {},
     "title": "Identify and Display Top 10 Best-Selling Products"
    }
   },
   "outputs": [],
   "source": [
    "from pyspark.sql.functions import desc\n",
    "\n",
    "df_top_products = df_oro.groupBy(\"Product_Name\").agg(\n",
    "    sum(\"Quantity\").alias(\"Total_Units_Sold\")\n",
    ").orderBy(desc(\"Total_Units_Sold\")).limit(10)\n",
    "\n",
    "display(df_top_products)\n",
    "\n",
    "# Check con sintaxis SQL (adicional)\n",
    "\n",
    "# df_clean.createOrReplaceTempView(\"df_oro\")\n",
    "\n",
    "# spark.sql(\n",
    "#     \"\"\"\n",
    "#         SELECT Product_Name, SUM(Quantity) AS Total_Units_Sold\n",
    "#         FROM df_oro\n",
    "#         GROUP BY Product_Name\n",
    "#         ORDER BY Total_Units_Sold DESC\n",
    "#         LIMIT 10\n",
    "#     \"\"\"\n",
    "# ).display()\n",
    "\n",
    "df_top_products.write.format(\"delta\").mode(\"overwrite\").save(\"/mnt/datalake/globalsalesmarketmedallon/global_sales_oro/top_products/delta_tables\")\n",
    "df_top_products.write.format(\"csv\").mode(\"overwrite\").save(\"/mnt/datalake/globalsalesmarketmedallon/global_sales_oro/top_products/csv\")\n"
   ]
  },
  {
   "cell_type": "code",
   "execution_count": 0,
   "metadata": {
    "application/vnd.databricks.v1+cell": {
     "cellMetadata": {
      "byteLimit": 2048000,
      "rowLimit": 10000
     },
     "inputWidgets": {},
     "nuid": "f634881d-ef10-4096-b86c-5ec54a5acb0f",
     "showTitle": true,
     "tableResultSettingsMap": {},
     "title": "Aggregate and Display Profit Metrics by Country"
    }
   },
   "outputs": [],
   "source": [
    "df_profit_por_pais = df_oro.groupBy(\"Country\").agg(\n",
    "    sum(\"Profit\").alias(\"Total_Profit\"),\n",
    "    avg(\"Profit_Margin\").alias(\"Avg_Profit_Margin\")\n",
    ")\n",
    "display(df_profit_por_pais)\n",
    "\n",
    "df_profit_por_pais.write.format(\"delta\").mode(\"overwrite\").save(\"/mnt/datalake/globalsalesmarketmedallon/global_sales_oro/profit_por_pais/delta_tables\")\n",
    "df_profit_por_pais.write.format(\"csv\").mode(\"overwrite\").save(\"/mnt/datalake/globalsalesmarketmedallon/global_sales_oro/profit_por_pais/csv\")\n"
   ]
  },
  {
   "cell_type": "markdown",
   "metadata": {
    "application/vnd.databricks.v1+cell": {
     "cellMetadata": {
      "byteLimit": 2048000,
      "rowLimit": 10000
     },
     "inputWidgets": {},
     "nuid": "140eaab8-cf0f-4c65-bbb4-1e9240d0b382",
     "showTitle": false,
     "tableResultSettingsMap": {},
     "title": ""
    }
   },
   "source": [
    "### KPI General de ganancia por año "
   ]
  },
  {
   "cell_type": "code",
   "execution_count": 0,
   "metadata": {
    "application/vnd.databricks.v1+cell": {
     "cellMetadata": {
      "byteLimit": 2048000,
      "rowLimit": 10000
     },
     "inputWidgets": {},
     "nuid": "54363e9c-ee47-497e-a2bb-e6245a16978f",
     "showTitle": true,
     "tableResultSettingsMap": {},
     "title": "Aggregate Sales, Profit, and Customer KPIs by Year"
    }
   },
   "outputs": [],
   "source": [
    "from pyspark.sql.functions import sum, avg, countDistinct\n",
    "\n",
    "df_kpis_general = df_oro.groupBy(\"Order_Year\").agg(\n",
    "    sum(\"Sales\").alias(\"Total_Sales\"),\n",
    "    sum(\"Profit\").alias(\"Total_Profit\"),\n",
    "    avg(\"Profit_Margin\").alias(\"Avg_Profit_Margin\"),\n",
    "    countDistinct(\"Customer_ID\").alias(\"Unique_Customers\"),\n",
    ").orderBy(\"Total_Profit\", ascending= False)\n",
    "\n",
    "display(df_kpis_general)\n",
    "\n",
    "df_kpis_general.write.format(\"delta\").mode(\"overwrite\").save(\"/mnt/datalake/globalsalesmarketmedallon/global_sales_oro/kpis_general/delta_tables\")\n",
    "df_kpis_general.write.format(\"csv\").mode(\"overwrite\").save(\"/mnt/datalake/globalsalesmarketmedallon/global_sales_oro/kpis_general/csv\")\n"
   ]
  },
  {
   "cell_type": "markdown",
   "metadata": {
    "application/vnd.databricks.v1+cell": {
     "cellMetadata": {
      "byteLimit": 2048000,
      "rowLimit": 10000
     },
     "inputWidgets": {},
     "nuid": "1e7b2ced-a3fc-4990-b047-c9df761a399d",
     "showTitle": false,
     "tableResultSettingsMap": {},
     "title": ""
    }
   },
   "source": [
    "### Fin capa oro (Gold y KPIs)"
   ]
  }
 ],
 "metadata": {
  "application/vnd.databricks.v1+notebook": {
   "computePreferences": null,
   "dashboards": [],
   "environmentMetadata": {
    "base_environment": "",
    "environment_version": "2"
   },
   "inputWidgetPreferences": null,
   "language": "python",
   "notebookMetadata": {
    "pythonIndentUnit": 4
   },
   "notebookName": "ETL_global_sales_oro",
   "widgets": {}
  },
  "language_info": {
   "name": "python"
  }
 },
 "nbformat": 4,
 "nbformat_minor": 0
}

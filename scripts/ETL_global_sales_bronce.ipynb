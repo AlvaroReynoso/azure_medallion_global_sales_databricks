{
 "cells": [
  {
   "cell_type": "markdown",
   "metadata": {
    "application/vnd.databricks.v1+cell": {
     "cellMetadata": {},
     "inputWidgets": {},
     "nuid": "f9af5098-cc61-48c3-8304-8ef5870e2776",
     "showTitle": false,
     "tableResultSettingsMap": {},
     "title": ""
    }
   },
   "source": [
    "### Comienzo capa bronce (Bronze)"
   ]
  },
  {
   "cell_type": "code",
   "execution_count": 0,
   "metadata": {
    "application/vnd.databricks.v1+cell": {
     "cellMetadata": {
      "byteLimit": 2048000,
      "rowLimit": 10000
     },
     "inputWidgets": {},
     "nuid": "aeb10ada-3ec2-42ad-b65b-c4bb13e15e6a",
     "showTitle": true,
     "tableResultSettingsMap": {},
     "title": "Set Global Sales Data Paths Based on Base Path Widget"
    }
   },
   "outputs": [],
   "source": [
    "\n",
    "dbutils.widgets.text(\"base_path\", \"mnt/datalake/globalsalesmarketmedallon\",\"\")\n",
    "base_path = dbutils.widgets.get(\"base_path\")\n",
    "\n",
    "path_raw = f\"{base_path}/global_sales_raw/\"\n",
    "path_bronze = f\"{base_path}/global_sales_bronce/\"\n",
    "path_plata = f\"{base_path}/global_sales_plata/\"\n",
    "path_oro = f\"{base_path}/global_sales_oro/\"\n"
   ]
  },
  {
   "cell_type": "code",
   "execution_count": 0,
   "metadata": {
    "application/vnd.databricks.v1+cell": {
     "cellMetadata": {
      "byteLimit": 2048000,
      "rowLimit": 10000
     },
     "inputWidgets": {},
     "nuid": "73fbd3ee-4604-468a-a2f0-4c7eda6999f8",
     "showTitle": true,
     "tableResultSettingsMap": {},
     "title": "Display Base Path Value"
    }
   },
   "outputs": [],
   "source": [
    "display(base_path)"
   ]
  },
  {
   "cell_type": "code",
   "execution_count": 0,
   "metadata": {
    "application/vnd.databricks.v1+cell": {
     "cellMetadata": {
      "byteLimit": 2048000,
      "rowLimit": 10000
     },
     "inputWidgets": {},
     "nuid": "9ebb8393-05b2-41ff-8b1a-db47fe5e0af8",
     "showTitle": true,
     "tableResultSettingsMap": {},
     "title": "Load and Save Global Sales Data in Delta and CSV"
    }
   },
   "outputs": [],
   "source": [
    "df_raw = spark.read.csv(\"/mnt/datalake/globalsalesmarketmedallon/global_sales_raw/global_superstore_data.csv\")\n",
    "display(df_raw)\n",
    "df_raw.repartition(1).write.format(\"csv\").mode(\"overwrite\").save(f\"/{base_path}/global_sales_bronce/csv\")"
   ]
  },
  {
   "cell_type": "markdown",
   "metadata": {
    "application/vnd.databricks.v1+cell": {
     "cellMetadata": {},
     "inputWidgets": {},
     "nuid": "65b6a8d5-8166-48c3-b7a8-9562c16ef603",
     "showTitle": false,
     "tableResultSettingsMap": {},
     "title": ""
    }
   },
   "source": [
    "### Fin capa Bronce\n"
   ]
  }
 ],
 "metadata": {
  "application/vnd.databricks.v1+notebook": {
   "computePreferences": null,
   "dashboards": [],
   "environmentMetadata": {
    "base_environment": "",
    "environment_version": "2"
   },
   "inputWidgetPreferences": null,
   "language": "python",
   "notebookMetadata": {
    "pythonIndentUnit": 4
   },
   "notebookName": "ETL_global_sales_bronce",
   "widgets": {
    "base_path": {
     "currentValue": "mnt/datalake/globalsalesmarketmedallon",
     "nuid": "4f8b1b78-1c1c-473b-83bd-6ca5f457946e",
     "typedWidgetInfo": {
      "autoCreated": false,
      "defaultValue": "mnt/datalake/globalsalesmarketmedallon",
      "label": "",
      "name": "base_path",
      "options": {
       "widgetDisplayType": "Text",
       "validationRegex": null
      },
      "parameterDataType": "String"
     },
     "widgetInfo": {
      "widgetType": "text",
      "defaultValue": "mnt/datalake/globalsalesmarketmedallon",
      "label": "",
      "name": "base_path",
      "options": {
       "widgetType": "text",
       "autoCreated": null,
       "validationRegex": null
      }
     }
    }
   }
  },
  "language_info": {
   "name": "python"
  }
 },
 "nbformat": 4,
 "nbformat_minor": 0
}
